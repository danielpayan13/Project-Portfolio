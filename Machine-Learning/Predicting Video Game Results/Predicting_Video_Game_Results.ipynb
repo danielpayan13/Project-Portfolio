{
 "cells": [
  {
   "cell_type": "markdown",
   "id": "14306294",
   "metadata": {},
   "source": [
    "\n",
    "# Predicting the Win/Loss Outcome of League of Legends Ranked Games\n",
    "\n",
    "#### This dataset was generated through Riot's API and downloaded from from kaggle.com\n",
    "#### By Daniel Payan\n",
    "\n",
    "In this notebook, we will develop a machine learning model to predict whether or not the **Blue Team Wins or Loses**. First we will perform a quick exploratory data analysis (EDA) on this dataset to become more familiar with our different attributes and to see if there are any outliers or null values to handle. Next we will prep our data using a train_test_split for our models. Finally, we will compare the results of **five** different models:\n",
    "1. Linear Regression\n",
    "2. Logistic Regression\n",
    "3. Ridge Regression\n",
    "4. Random Forest\n",
    "5. K-Nearest Neighbors\n",
    "\n",
    "This notebook has one CSV file, ***high_diamond_ranked_10min.csv***, which will be stored using a pandas DataFrame. For data visualization, we will be using seaborn and matplotlib. For machine learning and statistical work we will be using scikit-learn and numpy."
   ]
  },
  {
   "cell_type": "code",
   "execution_count": 130,
   "id": "664f038c",
   "metadata": {},
   "outputs": [],
   "source": [
    "import pandas as pd\n",
    "import seaborn as sb\n",
    "import matplotlib.pyplot as plt\n",
    "import numpy as np"
   ]
  },
  {
   "cell_type": "code",
   "execution_count": 131,
   "id": "60238f00",
   "metadata": {},
   "outputs": [
    {
     "data": {
      "text/plain": [
       "(9879, 40)"
      ]
     },
     "execution_count": 131,
     "metadata": {},
     "output_type": "execute_result"
    }
   ],
   "source": [
    "#Read data into pandas DataFrame\n",
    "prediction_df = pd.read_csv('Data/high_diamond_ranked_10min.csv')\n",
    "\n",
    "#The dataset has 9879 records with 40 attributes\n",
    "prediction_df.shape"
   ]
  },
  {
   "cell_type": "markdown",
   "id": "0b26f0b7",
   "metadata": {},
   "source": [
    "#### First let's display the overall dataset to get an overall look at our data."
   ]
  },
  {
   "cell_type": "code",
   "execution_count": 132,
   "id": "2b3dd0de",
   "metadata": {},
   "outputs": [
    {
     "data": {
      "text/html": [
       "<div>\n",
       "<style scoped>\n",
       "    .dataframe tbody tr th:only-of-type {\n",
       "        vertical-align: middle;\n",
       "    }\n",
       "\n",
       "    .dataframe tbody tr th {\n",
       "        vertical-align: top;\n",
       "    }\n",
       "\n",
       "    .dataframe thead th {\n",
       "        text-align: right;\n",
       "    }\n",
       "</style>\n",
       "<table border=\"1\" class=\"dataframe\">\n",
       "  <thead>\n",
       "    <tr style=\"text-align: right;\">\n",
       "      <th></th>\n",
       "      <th>gameId</th>\n",
       "      <th>blueWins</th>\n",
       "      <th>blueWardsPlaced</th>\n",
       "      <th>blueWardsDestroyed</th>\n",
       "      <th>blueFirstBlood</th>\n",
       "      <th>blueKills</th>\n",
       "      <th>blueDeaths</th>\n",
       "      <th>blueAssists</th>\n",
       "      <th>blueEliteMonsters</th>\n",
       "      <th>blueDragons</th>\n",
       "      <th>...</th>\n",
       "      <th>redTowersDestroyed</th>\n",
       "      <th>redTotalGold</th>\n",
       "      <th>redAvgLevel</th>\n",
       "      <th>redTotalExperience</th>\n",
       "      <th>redTotalMinionsKilled</th>\n",
       "      <th>redTotalJungleMinionsKilled</th>\n",
       "      <th>redGoldDiff</th>\n",
       "      <th>redExperienceDiff</th>\n",
       "      <th>redCSPerMin</th>\n",
       "      <th>redGoldPerMin</th>\n",
       "    </tr>\n",
       "  </thead>\n",
       "  <tbody>\n",
       "    <tr>\n",
       "      <th>0</th>\n",
       "      <td>4519157822</td>\n",
       "      <td>0</td>\n",
       "      <td>28</td>\n",
       "      <td>2</td>\n",
       "      <td>1</td>\n",
       "      <td>9</td>\n",
       "      <td>6</td>\n",
       "      <td>11</td>\n",
       "      <td>0</td>\n",
       "      <td>0</td>\n",
       "      <td>...</td>\n",
       "      <td>0</td>\n",
       "      <td>16567</td>\n",
       "      <td>6.8</td>\n",
       "      <td>17047</td>\n",
       "      <td>197</td>\n",
       "      <td>55</td>\n",
       "      <td>-643</td>\n",
       "      <td>8</td>\n",
       "      <td>19.7</td>\n",
       "      <td>1656.7</td>\n",
       "    </tr>\n",
       "    <tr>\n",
       "      <th>1</th>\n",
       "      <td>4523371949</td>\n",
       "      <td>0</td>\n",
       "      <td>12</td>\n",
       "      <td>1</td>\n",
       "      <td>0</td>\n",
       "      <td>5</td>\n",
       "      <td>5</td>\n",
       "      <td>5</td>\n",
       "      <td>0</td>\n",
       "      <td>0</td>\n",
       "      <td>...</td>\n",
       "      <td>1</td>\n",
       "      <td>17620</td>\n",
       "      <td>6.8</td>\n",
       "      <td>17438</td>\n",
       "      <td>240</td>\n",
       "      <td>52</td>\n",
       "      <td>2908</td>\n",
       "      <td>1173</td>\n",
       "      <td>24.0</td>\n",
       "      <td>1762.0</td>\n",
       "    </tr>\n",
       "    <tr>\n",
       "      <th>2</th>\n",
       "      <td>4521474530</td>\n",
       "      <td>0</td>\n",
       "      <td>15</td>\n",
       "      <td>0</td>\n",
       "      <td>0</td>\n",
       "      <td>7</td>\n",
       "      <td>11</td>\n",
       "      <td>4</td>\n",
       "      <td>1</td>\n",
       "      <td>1</td>\n",
       "      <td>...</td>\n",
       "      <td>0</td>\n",
       "      <td>17285</td>\n",
       "      <td>6.8</td>\n",
       "      <td>17254</td>\n",
       "      <td>203</td>\n",
       "      <td>28</td>\n",
       "      <td>1172</td>\n",
       "      <td>1033</td>\n",
       "      <td>20.3</td>\n",
       "      <td>1728.5</td>\n",
       "    </tr>\n",
       "    <tr>\n",
       "      <th>3</th>\n",
       "      <td>4524384067</td>\n",
       "      <td>0</td>\n",
       "      <td>43</td>\n",
       "      <td>1</td>\n",
       "      <td>0</td>\n",
       "      <td>4</td>\n",
       "      <td>5</td>\n",
       "      <td>5</td>\n",
       "      <td>1</td>\n",
       "      <td>0</td>\n",
       "      <td>...</td>\n",
       "      <td>0</td>\n",
       "      <td>16478</td>\n",
       "      <td>7.0</td>\n",
       "      <td>17961</td>\n",
       "      <td>235</td>\n",
       "      <td>47</td>\n",
       "      <td>1321</td>\n",
       "      <td>7</td>\n",
       "      <td>23.5</td>\n",
       "      <td>1647.8</td>\n",
       "    </tr>\n",
       "    <tr>\n",
       "      <th>4</th>\n",
       "      <td>4436033771</td>\n",
       "      <td>0</td>\n",
       "      <td>75</td>\n",
       "      <td>4</td>\n",
       "      <td>0</td>\n",
       "      <td>6</td>\n",
       "      <td>6</td>\n",
       "      <td>6</td>\n",
       "      <td>0</td>\n",
       "      <td>0</td>\n",
       "      <td>...</td>\n",
       "      <td>0</td>\n",
       "      <td>17404</td>\n",
       "      <td>7.0</td>\n",
       "      <td>18313</td>\n",
       "      <td>225</td>\n",
       "      <td>67</td>\n",
       "      <td>1004</td>\n",
       "      <td>-230</td>\n",
       "      <td>22.5</td>\n",
       "      <td>1740.4</td>\n",
       "    </tr>\n",
       "    <tr>\n",
       "      <th>...</th>\n",
       "      <td>...</td>\n",
       "      <td>...</td>\n",
       "      <td>...</td>\n",
       "      <td>...</td>\n",
       "      <td>...</td>\n",
       "      <td>...</td>\n",
       "      <td>...</td>\n",
       "      <td>...</td>\n",
       "      <td>...</td>\n",
       "      <td>...</td>\n",
       "      <td>...</td>\n",
       "      <td>...</td>\n",
       "      <td>...</td>\n",
       "      <td>...</td>\n",
       "      <td>...</td>\n",
       "      <td>...</td>\n",
       "      <td>...</td>\n",
       "      <td>...</td>\n",
       "      <td>...</td>\n",
       "      <td>...</td>\n",
       "      <td>...</td>\n",
       "    </tr>\n",
       "    <tr>\n",
       "      <th>9874</th>\n",
       "      <td>4527873286</td>\n",
       "      <td>1</td>\n",
       "      <td>17</td>\n",
       "      <td>2</td>\n",
       "      <td>1</td>\n",
       "      <td>7</td>\n",
       "      <td>4</td>\n",
       "      <td>5</td>\n",
       "      <td>1</td>\n",
       "      <td>1</td>\n",
       "      <td>...</td>\n",
       "      <td>0</td>\n",
       "      <td>15246</td>\n",
       "      <td>6.8</td>\n",
       "      <td>16498</td>\n",
       "      <td>229</td>\n",
       "      <td>34</td>\n",
       "      <td>-2519</td>\n",
       "      <td>-2469</td>\n",
       "      <td>22.9</td>\n",
       "      <td>1524.6</td>\n",
       "    </tr>\n",
       "    <tr>\n",
       "      <th>9875</th>\n",
       "      <td>4527797466</td>\n",
       "      <td>1</td>\n",
       "      <td>54</td>\n",
       "      <td>0</td>\n",
       "      <td>0</td>\n",
       "      <td>6</td>\n",
       "      <td>4</td>\n",
       "      <td>8</td>\n",
       "      <td>1</td>\n",
       "      <td>1</td>\n",
       "      <td>...</td>\n",
       "      <td>0</td>\n",
       "      <td>15456</td>\n",
       "      <td>7.0</td>\n",
       "      <td>18367</td>\n",
       "      <td>206</td>\n",
       "      <td>56</td>\n",
       "      <td>-782</td>\n",
       "      <td>-888</td>\n",
       "      <td>20.6</td>\n",
       "      <td>1545.6</td>\n",
       "    </tr>\n",
       "    <tr>\n",
       "      <th>9876</th>\n",
       "      <td>4527713716</td>\n",
       "      <td>0</td>\n",
       "      <td>23</td>\n",
       "      <td>1</td>\n",
       "      <td>0</td>\n",
       "      <td>6</td>\n",
       "      <td>7</td>\n",
       "      <td>5</td>\n",
       "      <td>0</td>\n",
       "      <td>0</td>\n",
       "      <td>...</td>\n",
       "      <td>0</td>\n",
       "      <td>18319</td>\n",
       "      <td>7.4</td>\n",
       "      <td>19909</td>\n",
       "      <td>261</td>\n",
       "      <td>60</td>\n",
       "      <td>2416</td>\n",
       "      <td>1877</td>\n",
       "      <td>26.1</td>\n",
       "      <td>1831.9</td>\n",
       "    </tr>\n",
       "    <tr>\n",
       "      <th>9877</th>\n",
       "      <td>4527628313</td>\n",
       "      <td>0</td>\n",
       "      <td>14</td>\n",
       "      <td>4</td>\n",
       "      <td>1</td>\n",
       "      <td>2</td>\n",
       "      <td>3</td>\n",
       "      <td>3</td>\n",
       "      <td>1</td>\n",
       "      <td>1</td>\n",
       "      <td>...</td>\n",
       "      <td>0</td>\n",
       "      <td>15298</td>\n",
       "      <td>7.2</td>\n",
       "      <td>18314</td>\n",
       "      <td>247</td>\n",
       "      <td>40</td>\n",
       "      <td>839</td>\n",
       "      <td>1085</td>\n",
       "      <td>24.7</td>\n",
       "      <td>1529.8</td>\n",
       "    </tr>\n",
       "    <tr>\n",
       "      <th>9878</th>\n",
       "      <td>4523772935</td>\n",
       "      <td>1</td>\n",
       "      <td>18</td>\n",
       "      <td>0</td>\n",
       "      <td>1</td>\n",
       "      <td>6</td>\n",
       "      <td>6</td>\n",
       "      <td>5</td>\n",
       "      <td>0</td>\n",
       "      <td>0</td>\n",
       "      <td>...</td>\n",
       "      <td>0</td>\n",
       "      <td>15339</td>\n",
       "      <td>6.8</td>\n",
       "      <td>17379</td>\n",
       "      <td>201</td>\n",
       "      <td>46</td>\n",
       "      <td>-927</td>\n",
       "      <td>58</td>\n",
       "      <td>20.1</td>\n",
       "      <td>1533.9</td>\n",
       "    </tr>\n",
       "  </tbody>\n",
       "</table>\n",
       "<p>9879 rows × 40 columns</p>\n",
       "</div>"
      ],
      "text/plain": [
       "          gameId  blueWins  blueWardsPlaced  blueWardsDestroyed  \\\n",
       "0     4519157822         0               28                   2   \n",
       "1     4523371949         0               12                   1   \n",
       "2     4521474530         0               15                   0   \n",
       "3     4524384067         0               43                   1   \n",
       "4     4436033771         0               75                   4   \n",
       "...          ...       ...              ...                 ...   \n",
       "9874  4527873286         1               17                   2   \n",
       "9875  4527797466         1               54                   0   \n",
       "9876  4527713716         0               23                   1   \n",
       "9877  4527628313         0               14                   4   \n",
       "9878  4523772935         1               18                   0   \n",
       "\n",
       "      blueFirstBlood  blueKills  blueDeaths  blueAssists  blueEliteMonsters  \\\n",
       "0                  1          9           6           11                  0   \n",
       "1                  0          5           5            5                  0   \n",
       "2                  0          7          11            4                  1   \n",
       "3                  0          4           5            5                  1   \n",
       "4                  0          6           6            6                  0   \n",
       "...              ...        ...         ...          ...                ...   \n",
       "9874               1          7           4            5                  1   \n",
       "9875               0          6           4            8                  1   \n",
       "9876               0          6           7            5                  0   \n",
       "9877               1          2           3            3                  1   \n",
       "9878               1          6           6            5                  0   \n",
       "\n",
       "      blueDragons  ...  redTowersDestroyed  redTotalGold  redAvgLevel  \\\n",
       "0               0  ...                   0         16567          6.8   \n",
       "1               0  ...                   1         17620          6.8   \n",
       "2               1  ...                   0         17285          6.8   \n",
       "3               0  ...                   0         16478          7.0   \n",
       "4               0  ...                   0         17404          7.0   \n",
       "...           ...  ...                 ...           ...          ...   \n",
       "9874            1  ...                   0         15246          6.8   \n",
       "9875            1  ...                   0         15456          7.0   \n",
       "9876            0  ...                   0         18319          7.4   \n",
       "9877            1  ...                   0         15298          7.2   \n",
       "9878            0  ...                   0         15339          6.8   \n",
       "\n",
       "      redTotalExperience  redTotalMinionsKilled  redTotalJungleMinionsKilled  \\\n",
       "0                  17047                    197                           55   \n",
       "1                  17438                    240                           52   \n",
       "2                  17254                    203                           28   \n",
       "3                  17961                    235                           47   \n",
       "4                  18313                    225                           67   \n",
       "...                  ...                    ...                          ...   \n",
       "9874               16498                    229                           34   \n",
       "9875               18367                    206                           56   \n",
       "9876               19909                    261                           60   \n",
       "9877               18314                    247                           40   \n",
       "9878               17379                    201                           46   \n",
       "\n",
       "      redGoldDiff  redExperienceDiff  redCSPerMin  redGoldPerMin  \n",
       "0            -643                  8         19.7         1656.7  \n",
       "1            2908               1173         24.0         1762.0  \n",
       "2            1172               1033         20.3         1728.5  \n",
       "3            1321                  7         23.5         1647.8  \n",
       "4            1004               -230         22.5         1740.4  \n",
       "...           ...                ...          ...            ...  \n",
       "9874        -2519              -2469         22.9         1524.6  \n",
       "9875         -782               -888         20.6         1545.6  \n",
       "9876         2416               1877         26.1         1831.9  \n",
       "9877          839               1085         24.7         1529.8  \n",
       "9878         -927                 58         20.1         1533.9  \n",
       "\n",
       "[9879 rows x 40 columns]"
      ]
     },
     "execution_count": 132,
     "metadata": {},
     "output_type": "execute_result"
    }
   ],
   "source": [
    "prediction_df"
   ]
  },
  {
   "cell_type": "markdown",
   "id": "27c2d468",
   "metadata": {},
   "source": [
    "#### Now let's do some EDA to get a grasp on what these values mean"
   ]
  },
  {
   "cell_type": "code",
   "execution_count": 133,
   "id": "18d8d2c8",
   "metadata": {},
   "outputs": [
    {
     "name": "stdout",
     "output_type": "stream",
     "text": [
      "<class 'pandas.core.frame.DataFrame'>\n",
      "RangeIndex: 9879 entries, 0 to 9878\n",
      "Data columns (total 40 columns):\n",
      " #   Column                        Non-Null Count  Dtype  \n",
      "---  ------                        --------------  -----  \n",
      " 0   gameId                        9879 non-null   int64  \n",
      " 1   blueWins                      9879 non-null   int64  \n",
      " 2   blueWardsPlaced               9879 non-null   int64  \n",
      " 3   blueWardsDestroyed            9879 non-null   int64  \n",
      " 4   blueFirstBlood                9879 non-null   int64  \n",
      " 5   blueKills                     9879 non-null   int64  \n",
      " 6   blueDeaths                    9879 non-null   int64  \n",
      " 7   blueAssists                   9879 non-null   int64  \n",
      " 8   blueEliteMonsters             9879 non-null   int64  \n",
      " 9   blueDragons                   9879 non-null   int64  \n",
      " 10  blueHeralds                   9879 non-null   int64  \n",
      " 11  blueTowersDestroyed           9879 non-null   int64  \n",
      " 12  blueTotalGold                 9879 non-null   int64  \n",
      " 13  blueAvgLevel                  9879 non-null   float64\n",
      " 14  blueTotalExperience           9879 non-null   int64  \n",
      " 15  blueTotalMinionsKilled        9879 non-null   int64  \n",
      " 16  blueTotalJungleMinionsKilled  9879 non-null   int64  \n",
      " 17  blueGoldDiff                  9879 non-null   int64  \n",
      " 18  blueExperienceDiff            9879 non-null   int64  \n",
      " 19  blueCSPerMin                  9879 non-null   float64\n",
      " 20  blueGoldPerMin                9879 non-null   float64\n",
      " 21  redWardsPlaced                9879 non-null   int64  \n",
      " 22  redWardsDestroyed             9879 non-null   int64  \n",
      " 23  redFirstBlood                 9879 non-null   int64  \n",
      " 24  redKills                      9879 non-null   int64  \n",
      " 25  redDeaths                     9879 non-null   int64  \n",
      " 26  redAssists                    9879 non-null   int64  \n",
      " 27  redEliteMonsters              9879 non-null   int64  \n",
      " 28  redDragons                    9879 non-null   int64  \n",
      " 29  redHeralds                    9879 non-null   int64  \n",
      " 30  redTowersDestroyed            9879 non-null   int64  \n",
      " 31  redTotalGold                  9879 non-null   int64  \n",
      " 32  redAvgLevel                   9879 non-null   float64\n",
      " 33  redTotalExperience            9879 non-null   int64  \n",
      " 34  redTotalMinionsKilled         9879 non-null   int64  \n",
      " 35  redTotalJungleMinionsKilled   9879 non-null   int64  \n",
      " 36  redGoldDiff                   9879 non-null   int64  \n",
      " 37  redExperienceDiff             9879 non-null   int64  \n",
      " 38  redCSPerMin                   9879 non-null   float64\n",
      " 39  redGoldPerMin                 9879 non-null   float64\n",
      "dtypes: float64(6), int64(34)\n",
      "memory usage: 3.0 MB\n"
     ]
    }
   ],
   "source": [
    "#Let's drop any columns with missing values\n",
    "prediction_df.info()"
   ]
  },
  {
   "cell_type": "code",
   "execution_count": 142,
   "id": "b98125d5",
   "metadata": {},
   "outputs": [
    {
     "data": {
      "text/plain": [
       "0    4949\n",
       "1    4930\n",
       "Name: blueWins, dtype: int64"
      ]
     },
     "execution_count": 142,
     "metadata": {},
     "output_type": "execute_result"
    }
   ],
   "source": [
    "prediction_df['blueWins'].value_counts()"
   ]
  },
  {
   "cell_type": "markdown",
   "id": "8d981117",
   "metadata": {},
   "source": [
    "#### Our baseline for this model is 49.9% as we have 4930 win observations out of 9879 games."
   ]
  },
  {
   "cell_type": "code",
   "execution_count": 144,
   "id": "d28eaaba",
   "metadata": {
    "scrolled": true
   },
   "outputs": [
    {
     "data": {
      "text/plain": [
       "0.4990383642069035"
      ]
     },
     "execution_count": 144,
     "metadata": {},
     "output_type": "execute_result"
    }
   ],
   "source": [
    "4930/9879"
   ]
  },
  {
   "cell_type": "code",
   "execution_count": 135,
   "id": "885ea034",
   "metadata": {},
   "outputs": [
    {
     "data": {
      "text/plain": [
       "gameId                          0.000985\n",
       "blueWins                        1.000000\n",
       "blueWardsPlaced                 0.000087\n",
       "blueWardsDestroyed              0.044247\n",
       "blueFirstBlood                  0.201769\n",
       "blueKills                       0.337358\n",
       "blueDeaths                     -0.339297\n",
       "blueAssists                     0.276685\n",
       "blueEliteMonsters               0.221944\n",
       "blueDragons                     0.213768\n",
       "blueHeralds                     0.092385\n",
       "blueTowersDestroyed             0.115566\n",
       "blueTotalGold                   0.417213\n",
       "blueAvgLevel                    0.357820\n",
       "blueTotalExperience             0.396141\n",
       "blueTotalMinionsKilled          0.224909\n",
       "blueTotalJungleMinionsKilled    0.131445\n",
       "blueGoldDiff                    0.511119\n",
       "blueExperienceDiff              0.489558\n",
       "blueCSPerMin                    0.224909\n",
       "blueGoldPerMin                  0.417213\n",
       "redWardsPlaced                 -0.023671\n",
       "redWardsDestroyed              -0.055400\n",
       "redFirstBlood                  -0.201769\n",
       "redKills                       -0.339297\n",
       "redDeaths                       0.337358\n",
       "redAssists                     -0.271047\n",
       "redEliteMonsters               -0.221551\n",
       "redDragons                     -0.209516\n",
       "redHeralds                     -0.097172\n",
       "redTowersDestroyed             -0.103696\n",
       "redTotalGold                   -0.411396\n",
       "redAvgLevel                    -0.352127\n",
       "redTotalExperience             -0.387588\n",
       "redTotalMinionsKilled          -0.212171\n",
       "redTotalJungleMinionsKilled    -0.110994\n",
       "redGoldDiff                    -0.511119\n",
       "redExperienceDiff              -0.489558\n",
       "redCSPerMin                    -0.212171\n",
       "redGoldPerMin                  -0.411396\n",
       "Name: blueWins, dtype: float64"
      ]
     },
     "execution_count": 135,
     "metadata": {},
     "output_type": "execute_result"
    }
   ],
   "source": [
    "#Well, luckily, we had no columns with missing values, so we can move forward.\n",
    "#We also have no object/categorical attributes, so we don't need to\n",
    "#make any dummy values.\n",
    "\n",
    "#Let's create a correlation matrix to see if we can discover \n",
    "#any correlation between an attribute and the blue team winning immediately\n",
    "corr_matrix = prediction_df.corr()\n",
    "corr_matrix['blueWins']"
   ]
  },
  {
   "cell_type": "markdown",
   "id": "34dd13c1",
   "metadata": {},
   "source": [
    "#### Correlating Attributes\n",
    "The **highest positive** correlating attributes to the blue team winning <br>(**factors that result in them winning**) based on this correlation matrix are the **amount of gold and experience the Blue Team has over the Red Team** (blueGoldDiff & blueExperienceDiff) and the **amount of total gold the Blue Team has** (blueTotalGold). <br>\n",
    "The **highest negative** correlating attributes to the blue team winning <br>(**factors that result in them losing**) based on this correlation matrix are the inverse of the positive attributes with the **amount of gold and experience the Red Team has over the Blue Team** (redGoldDiff & redExperienceDiff) and the **amount of total gold the Red Team has** (redTotalGold) being the strongest correlations. "
   ]
  },
  {
   "cell_type": "markdown",
   "id": "68ad183d",
   "metadata": {},
   "source": [
    "#### Let's plot these correlations\n",
    "Violin plots will allow us to see the distribution of values, while also visualizing the correlations we just discovered. <br>\n",
    "We can see clearly that the distribution of values when the Blue Team wins (blueWins = 1) is on average higher for blueGoldDiff and lower for redGoldDiff."
   ]
  },
  {
   "cell_type": "code",
   "execution_count": 108,
   "id": "5abbfbbd",
   "metadata": {},
   "outputs": [
    {
     "data": {
      "text/plain": [
       "<Axes: xlabel='blueWins', ylabel='blueGoldDiff'>"
      ]
     },
     "execution_count": 108,
     "metadata": {},
     "output_type": "execute_result"
    },
    {
     "data": {
      "image/png": "[encoded data removed]",
      "text/plain": [
       "<Figure size 640x480 with 1 Axes>"
      ]
     },
     "metadata": {},
     "output_type": "display_data"
    }
   ],
   "source": [
    "sb.violinplot(data=prediction_df,x='blueWins',y='blueGoldDiff')"
   ]
  },
  {
   "cell_type": "code",
   "execution_count": 109,
   "id": "29e86aee",
   "metadata": {},
   "outputs": [
    {
     "data": {
      "text/plain": [
       "<Axes: xlabel='blueWins', ylabel='redGoldDiff'>"
      ]
     },
     "execution_count": 109,
     "metadata": {},
     "output_type": "execute_result"
    },
    {
     "data": {
      "image/png": "[encoded data removed]",
      "text/plain": [
       "<Figure size 640x480 with 1 Axes>"
      ]
     },
     "metadata": {},
     "output_type": "display_data"
    }
   ],
   "source": [
    "#Let's plot Heralds vs. Towers first\n",
    "sb.violinplot(data=prediction_df,x='blueWins',y='redGoldDiff')"
   ]
  },
  {
   "cell_type": "markdown",
   "id": "ed6d498a",
   "metadata": {},
   "source": [
    "#### Time to Begin Data Preparation"
   ]
  },
  {
   "cell_type": "code",
   "execution_count": 110,
   "id": "ddfab020",
   "metadata": {},
   "outputs": [],
   "source": [
    "#Our outcome variable is going to be whether or not blue wins\n",
    "y = prediction_df['blueWins']\n",
    "prediction_df.drop('blueWins',axis=1,inplace=True)\n",
    "x = prediction_df.values"
   ]
  },
  {
   "cell_type": "code",
   "execution_count": 111,
   "id": "cd0573e1",
   "metadata": {},
   "outputs": [],
   "source": [
    "from sklearn.preprocessing import MinMaxScaler\n",
    "scaler = MinMaxScaler(feature_range=(0,1))\n",
    "\n",
    "x = scaler.fit_transform(prediction_df)"
   ]
  },
  {
   "cell_type": "code",
   "execution_count": 112,
   "id": "f1873c15",
   "metadata": {},
   "outputs": [
    {
     "data": {
      "text/plain": [
       "((7903, 39), (1976, 39), (7903,), (1976,))"
      ]
     },
     "execution_count": 112,
     "metadata": {},
     "output_type": "execute_result"
    }
   ],
   "source": [
    "#Now we will use train_test_split to split the dataset as train:test=(80%:20%)\n",
    "from sklearn.model_selection import train_test_split\n",
    "\n",
    "xtrain,xtest,ytrain,ytest = train_test_split(x,y,test_size = 0.2, random_state=13)\n",
    "#The dimensions of the new datasets are below\n",
    "xtrain.shape,xtest.shape,ytrain.shape,ytest.shape"
   ]
  },
  {
   "cell_type": "markdown",
   "id": "b09b9301",
   "metadata": {},
   "source": [
    "#### Linear Regression"
   ]
  },
  {
   "cell_type": "code",
   "execution_count": 113,
   "id": "8500f9d6",
   "metadata": {},
   "outputs": [
    {
     "name": "stdout",
     "output_type": "stream",
     "text": [
      "This is the Train Score:  0.2851192440095657\n",
      "This is the Test Score:  0.26391048521042293\n"
     ]
    }
   ],
   "source": [
    "from sklearn import linear_model\n",
    "\n",
    "linreg = linear_model.LinearRegression()\n",
    "linreg.fit(xtrain,ytrain)\n",
    "\n",
    "print('This is the Train Score: ',  linreg.score(xtrain,ytrain))\n",
    "print('This is the Test Score: ', linreg.score(xtest,ytest))"
   ]
  },
  {
   "cell_type": "code",
   "execution_count": 114,
   "id": "10d170f0",
   "metadata": {},
   "outputs": [
    {
     "data": {
      "text/plain": [
       "0.31583634518865245"
      ]
     },
     "execution_count": 114,
     "metadata": {},
     "output_type": "execute_result"
    }
   ],
   "source": [
    "from sklearn.preprocessing import PolynomialFeatures\n",
    "poly = PolynomialFeatures(2)\n",
    "poly_features = poly.fit_transform(xtrain,ytrain)\n",
    "poly_reg_model = linear_model.LinearRegression()\n",
    "poly_reg_model.fit(poly_features,ytrain)\n",
    "\n",
    "poly_reg_model.score(poly_features,ytrain)"
   ]
  },
  {
   "cell_type": "markdown",
   "id": "fbec1a6e",
   "metadata": {},
   "source": [
    "#### Linear Regression is outputting poor scores.\n",
    "Though, this is expected as it is assuming the relationship between the dependent variables and independent variable is strictly linear. Let's move forward and see if we can find a model that better suits our problem!"
   ]
  },
  {
   "cell_type": "markdown",
   "id": "82ed2af2",
   "metadata": {},
   "source": [
    "#### Logistic Regression"
   ]
  },
  {
   "cell_type": "code",
   "execution_count": 115,
   "id": "a833705e",
   "metadata": {},
   "outputs": [],
   "source": [
    "#Scaling the model around a center of 0 to ensure the variance of the\n",
    "#features are in the same range\n",
    "from sklearn.preprocessing import scale\n",
    "x = scale(x)\n",
    "xtrain,xtest,ytrain,ytest = train_test_split(x,y,test_size = 0.2, random_state=13)"
   ]
  },
  {
   "cell_type": "code",
   "execution_count": 116,
   "id": "2553d8a6",
   "metadata": {},
   "outputs": [
    {
     "name": "stdout",
     "output_type": "stream",
     "text": [
      "This is the Train Accuracy Score:  0.7368088067822346\n",
      "This is the Test Accuracy Score:  0.72165991902834\n"
     ]
    }
   ],
   "source": [
    "from sklearn.linear_model import LogisticRegression\n",
    "from sklearn.metrics import accuracy_score\n",
    "logreg = LogisticRegression()\n",
    "logreg.fit(xtrain,ytrain)\n",
    "ypred = logreg.predict(xtrain)\n",
    "print('This is the Train Accuracy Score: ', accuracy_score(ytrain,ypred))\n",
    "print('This is the Test Accuracy Score: ', accuracy_score(ytest,logreg.predict(xtest)))"
   ]
  },
  {
   "cell_type": "markdown",
   "id": "9fa63383",
   "metadata": {},
   "source": [
    "#### Logistic Regression is outputting much better scores than Linear Regression\n",
    "Logistic Regression is performing much better as it is well-suited for this task. Logistic Regression models the probability of a binary outcome which is perfect for our Win Loss outcome dataset. However, logistic regression still assumes the relationship between the variables and outcome variable is linear, so let's continue moving through models to see if we can improve this score further!"
   ]
  },
  {
   "cell_type": "markdown",
   "id": "a823e15f",
   "metadata": {},
   "source": [
    "#### Ridge Regression"
   ]
  },
  {
   "cell_type": "code",
   "execution_count": 117,
   "id": "7d8f3338",
   "metadata": {},
   "outputs": [
    {
     "name": "stdout",
     "output_type": "stream",
     "text": [
      "This is the Train Accuracy Score:  0.5001898013412628\n",
      "This is the Test Accuracy Score:  0.5040485829959515\n"
     ]
    }
   ],
   "source": [
    "#Since our data is already scaled and has a numerical outcome, we can move \n",
    "#straight to our modeling\n",
    "from sklearn.linear_model import Ridge\n",
    "ridge = Ridge()\n",
    "ridge.fit(xtrain,ytrain)\n",
    "yprob = ridge.predict(xtrain)\n",
    "ypred = np.asarray([np.argmax(line) for line in yprob])\n",
    "yptest = ridge.predict(xtest)\n",
    "predtest = np.asarray([np.argmax(line) for line in yptest])\n",
    "print('This is the Train Accuracy Score: ', accuracy_score(ytrain,ypred))\n",
    "print('This is the Test Accuracy Score: ', accuracy_score(ytest,predtest))"
   ]
  },
  {
   "cell_type": "markdown",
   "id": "3745e0c6",
   "metadata": {},
   "source": [
    "#### Ridge Regression did better than Linear, but fell short compared to Logistic\n",
    "Ridge Regression did not perform better than Logistic Regression, though this is expected due to our Linear Regression results. Ridge Regression is best utilized when a Linear Regression model is overly complex and overfits a dataset, which did not occur in our notebook. The penalty term, L2, that is added in Ridge Regression seemed to improve the overall performance compared to that of the base Linear Regression, but it seems Ridge is not the model for this job either. On to the next!"
   ]
  },
  {
   "cell_type": "markdown",
   "id": "248556db",
   "metadata": {},
   "source": [
    "#### Random Forest"
   ]
  },
  {
   "cell_type": "code",
   "execution_count": 120,
   "id": "ff7beae8",
   "metadata": {},
   "outputs": [
    {
     "name": "stdout",
     "output_type": "stream",
     "text": [
      "This is the Train Accuracy Score:  1.0\n",
      "This is the Test Accuracy Score:  0.7191295546558705\n"
     ]
    }
   ],
   "source": [
    "from sklearn.ensemble import RandomForestClassifier as RFC\n",
    "\n",
    "rfc = RFC()\n",
    "rfc.fit(xtrain,ytrain)\n",
    "ypred = rfc.predict(xtrain)\n",
    "print('This is the Train Accuracy Score: ', accuracy_score(ytrain,ypred))\n",
    "print('This is the Test Accuracy Score: ', accuracy_score(ytest,rfc.predict(xtest)))"
   ]
  },
  {
   "cell_type": "markdown",
   "id": "fa0176c2",
   "metadata": {},
   "source": [
    "#### Random Forest performed nearly as well as Logistic Regression\n",
    "Random Forest is the first of our models to take a non-linear approach when analyzing the relationship between our input and output variables. Random Forest does a good job here, though was not able to work at its fullest potential due to our data not being very noisy or complex, which is where Random Forest really shines. Let's try our final model and see if that one can take it home!"
   ]
  },
  {
   "cell_type": "markdown",
   "id": "4baca04d",
   "metadata": {},
   "source": [
    "#### K-Nearest Neighbors"
   ]
  },
  {
   "cell_type": "code",
   "execution_count": 121,
   "id": "c60be014",
   "metadata": {},
   "outputs": [
    {
     "name": "stdout",
     "output_type": "stream",
     "text": [
      "This is the Train Accuracy Score:  0.8162723016575983\n",
      "This is the Test Accuracy Score:  0.6503036437246964\n"
     ]
    }
   ],
   "source": [
    "#Similar to our last couple of models, our data is prepped and ready to go,\n",
    "#so we just need to import the actual model and get to work!\n",
    "from sklearn.neighbors import KNeighborsClassifier\n",
    "k=2\n",
    "knn = KNeighborsClassifier(n_neighbors=k)\n",
    "knn.fit(xtrain,ytrain)\n",
    "ypred = knn.predict(xtrain)\n",
    "\n",
    "print('This is the Train Accuracy Score: ', accuracy_score(ytrain,ypred))\n",
    "print('This is the Test Accuracy Score: ', accuracy_score(ytest,knn.predict(xtest)))"
   ]
  },
  {
   "cell_type": "markdown",
   "id": "1ad26a73",
   "metadata": {},
   "source": [
    "#### K-Nearest Neighbors performed right in the middle of our models. \n",
    "The K-Nearest Neighbors model created two clusters based on our input variables in which one was labeled Winners, and the other, Losers. However, it's test accuracy score was not able to surpass that of logistic regression, so now we will take our highest scoring model and try to tweak it to improve its score."
   ]
  },
  {
   "cell_type": "markdown",
   "id": "06328aac",
   "metadata": {},
   "source": [
    "#### Logistic Regression (Round 2)"
   ]
  },
  {
   "cell_type": "code",
   "execution_count": 128,
   "id": "4f99fcef",
   "metadata": {},
   "outputs": [
    {
     "name": "stdout",
     "output_type": "stream",
     "text": [
      "This is the Train Accuracy Score:  0.7366822725547261\n",
      "This is the Test Accuracy Score:  0.7226720647773279\n"
     ]
    }
   ],
   "source": [
    "# Model training and evaluation\n",
    "logreg = LogisticRegression(penalty='l2', C=0.1, solver='lbfgs', max_iter=1000, random_state=13)\n",
    "logreg.fit(xtrain, ytrain)\n",
    "\n",
    "ypred_train = logreg.predict(xtrain)\n",
    "ypred_test = logreg.predict(xtest)\n",
    "\n",
    "train_accuracy = accuracy_score(ytrain, ypred_train)\n",
    "test_accuracy = accuracy_score(ytest, ypred_test)\n",
    "\n",
    "print('This is the Train Accuracy Score: ', train_accuracy)\n",
    "print('This is the Test Accuracy Score: ', test_accuracy)"
   ]
  },
  {
   "cell_type": "markdown",
   "id": "547a1d5b",
   "metadata": {},
   "source": [
    "#### It seems the highest test accuracy score we could reach with our models was 0.7226. \n",
    "Though, when reflecting on the original question, this reflects that the model can **predict the winner of a ranked game of League of Legends within the first 10 minutes of play around 70% of the time.** As our **baseline accuracy was 49.9%**, we can definitely see this as an improvement, and by increasing the number of attributes, number of games, or the duration of games recorded, we could potentially increase the performance of this model even further. "
   ]
  },
  {
   "cell_type": "code",
   "execution_count": null,
   "id": "0ad1f0f5",
   "metadata": {},
   "outputs": [],
   "source": []
  }
 ],
 "metadata": {
  "kernelspec": {
   "display_name": "Python 3 (ipykernel)",
   "language": "python",
   "name": "python3"
  },
  "language_info": {
   "codemirror_mode": {
    "name": "ipython",
    "version": 3
   },
   "file_extension": ".py",
   "mimetype": "text/x-python",
   "name": "python",
   "nbconvert_exporter": "python",
   "pygments_lexer": "ipython3",
   "version": "3.9.16"
  }
 },
 "nbformat": 4,
 "nbformat_minor": 5
}
