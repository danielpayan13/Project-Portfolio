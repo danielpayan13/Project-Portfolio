{
 "cells": [
  {
   "cell_type": "markdown",
   "id": "b42a5be4",
   "metadata": {},
   "source": [
    "\n",
    "# Exploring the Dynamic Environment of League of Legends (Season 12)\n",
    "\n",
    "#### This dataset was gathered from METAsrc's database and downloaded from kaggle.com\n",
    "#### By Daniel Payan\n",
    "\n",
    "In this notebook, we will **manipulate**, **analyze**, and **visualize** data from the game, ***League of Legends***, and attempt to uncover persistent patterns in a video game that attempts to shift and balance its **meta** every two weeks through patches. We will draw insights based on attributes, such as, **champion class**, **role**, **pick/ban rate**, **overall win rates**, and more to determine if there is an exploitable trend or \"easy\" path to victory!\n",
    "\n",
    "This notebook has 23 CSV files, ***League of Legends Champion Stats 12.X.csv***, where X is the corresponding patch number. Data will be stored in pandas DataFrames, and visualized using seaborn and matplotlib."
   ]
  },
  {
   "cell_type": "code",
   "execution_count": 1,
   "id": "c50e5a48",
   "metadata": {},
   "outputs": [],
   "source": [
    "import pandas as pd\n",
    "import matplotlib.pyplot as plt\n",
    "import seaborn as sb"
   ]
  },
  {
   "cell_type": "code",
   "execution_count": 2,
   "id": "f0bb54b5",
   "metadata": {},
   "outputs": [],
   "source": [
    "#First we will read the datasets into individual DataFrames,\n",
    "#and then merge them into a single one\n",
    "p1_df = pd.DataFrame()\n",
    "for i in range(23):\n",
    "    p1_df = pd.read_csv('')"
   ]
  },
  {
   "cell_type": "code",
   "execution_count": null,
   "id": "0c71cd83",
   "metadata": {},
   "outputs": [],
   "source": []
  }
 ],
 "metadata": {
  "kernelspec": {
   "display_name": "Python 3 (ipykernel)",
   "language": "python",
   "name": "python3"
  },
  "language_info": {
   "codemirror_mode": {
    "name": "ipython",
    "version": 3
   },
   "file_extension": ".py",
   "mimetype": "text/x-python",
   "name": "python",
   "nbconvert_exporter": "python",
   "pygments_lexer": "ipython3",
   "version": "3.9.16"
  }
 },
 "nbformat": 4,
 "nbformat_minor": 5
}
